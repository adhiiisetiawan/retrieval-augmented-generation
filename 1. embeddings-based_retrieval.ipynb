{
 "cells": [
  {
   "cell_type": "markdown",
   "metadata": {},
   "source": [
    "![Embedding-based Retrieval](assets/embedding-based_retrieval.png \"Embedding-based Retrieval\")"
   ]
  },
  {
   "cell_type": "code",
   "execution_count": 1,
   "metadata": {},
   "outputs": [],
   "source": [
    "from helper_utils import word_wrap"
   ]
  },
  {
   "cell_type": "markdown",
   "metadata": {},
   "source": [
    "# Load Document"
   ]
  },
  {
   "cell_type": "code",
   "execution_count": 4,
   "metadata": {},
   "outputs": [],
   "source": [
    "from pypdf import PdfReader\n",
    "\n",
    "reader = PdfReader(\"documents/microsoft_annual_report_2022.pdf\")\n",
    "pdf_texts = [p.extract_text().strip() for p in reader.pages]"
   ]
  },
  {
   "cell_type": "code",
   "execution_count": null,
   "metadata": {},
   "outputs": [],
   "source": [
    "pdf_texts"
   ]
  },
  {
   "cell_type": "code",
   "execution_count": null,
   "metadata": {},
   "outputs": [],
   "source": [
    "# filter empty string\n",
    "pdf_texts = [text for text in pdf_texts if text]\n",
    "pdf_texts"
   ]
  },
  {
   "cell_type": "code",
   "execution_count": 9,
   "metadata": {},
   "outputs": [
    {
     "data": {
      "text/plain": [
       "'1 Dear shareholders, colleagues, customers, and partners:  \\nWe are living through a period of historic economic, societal, and geopolitical change. The world in 2022 looks nothing like \\nthe world in 2019. As I write this, inflation is at a 40 -year high, supply chains are stretched, and the war in Ukraine is \\nongoing. At the same time, we are entering a technological era with the potential to power awesome advancements \\nacross every sector of our economy and society. As the world’s largest software company, this places us at a historic \\nintersection of opportunity and responsibility to the world around us.  \\nOur mission to empower every person and every organization on the planet to achieve more has never been more \\nurgent or more necessary. For all the uncertainty in the world, one thing is clear: People and organizations in every \\nindustry are increasingly looking to digital technology to overcome today’s challenges and emerge stronger. And no \\ncompany is better positioned to help them than Microsoft.  \\nEvery day this past fiscal year I have had the privilege to witness our customers use our platforms and tools to connect \\nwhat technology can do with what the world needs  it to do.  \\nHere are just a few examples:  \\n• Ferrovial, which builds and manages some of the world’s busiest airports and highways, is using our cloud \\ninfrastructure to build safer roads as it prepares for a future of autonomous transportation.  \\n• Peace Parks Foundation, a nonprofit helping protect natural ecosystems in Southern Africa, is using Microsoft \\nDynamics 365 and Power BI to secure essential funding, as well as our Azure AI and IoT solutions to help \\nrangers scale their park maintenance and wildlife crime prevention work.  \\n• One of the world’s largest robotics companies, Kawasaki Heavy Industries, is using the breadth of our tools —\\nfrom Azure IoT and HoloLens —to create an industrial metaverse solution that brings its distributed workforce \\ntogether with its network of connected equipment to improve productivity and keep employees safe.  \\n• Globo, the biggest media and TV company in Brazil, is using Power Platform to empower its employees to \\nbuild their own solutions for everything from booking sets to setting schedules.  \\n• And Ørsted, which produces a quarter of the world’s wind energy, is using the Microsoft Intelligent Data \\nPlatform to turn data from its offshore turbines into insights for predictive maintenance.  \\nAmid this dynamic environment, we delivered record results in fiscal year 2022: We reported $198  billion in revenue and \\n$83 billion in operating income. And the Microsoft Cloud surpassed $100  billion in annualized revenue for the first time.  \\nOUR RESPONSIBILITY  \\nAs a corporation, our purpose and actions must be aligned with addressing the world’s problems, not creating new ones. \\nAt our very core, we need to deliver innovation that helps drive broad economic growth. We, as a company, will do well \\nwhen the world around us does well.  \\nThat’s what I believe will lead to widespread human progress and ultimately improve the lives of everyone. There is no \\nmore powerful input than digital technology to drive the world’s economic output. This is the core thesis for our being as a \\ncompany, but it’s not enough. As we drive global economic growth, we must also commit to creating a more inclusive, \\nequitable, sustainable, and trusted future.  \\nSupport inclusive economic growth  \\nWe must ensure the growth we drive reaches every person, organization, community, and country. This starts with \\nincreasing access to digital skills. This year alone, more than 23  million people accessed digital skills training as part of \\nour global skills initiative.'"
      ]
     },
     "execution_count": 9,
     "metadata": {},
     "output_type": "execute_result"
    }
   ],
   "source": [
    "pdf_texts[0]"
   ]
  },
  {
   "cell_type": "code",
   "execution_count": 8,
   "metadata": {},
   "outputs": [
    {
     "name": "stdout",
     "output_type": "stream",
     "text": [
      "1 Dear shareholders, colleagues, customers, and partners:  \n",
      "We are\n",
      "living through a period of historic economic, societal, and\n",
      "geopolitical change. The world in 2022 looks nothing like \n",
      "the world in\n",
      "2019. As I write this, inflation is at a 40 -year high, supply chains\n",
      "are stretched, and the war in Ukraine is \n",
      "ongoing. At the same time, we\n",
      "are entering a technological era with the potential to power awesome\n",
      "advancements \n",
      "across every sector of our economy and society. As the\n",
      "world’s largest software company, this places us at a historic\n",
      "\n",
      "intersection of opportunity and responsibility to the world around us.\n",
      " \n",
      "Our mission to empower every person and every organization on the\n",
      "planet to achieve more has never been more \n",
      "urgent or more necessary.\n",
      "For all the uncertainty in the world, one thing is clear: People and\n",
      "organizations in every \n",
      "industry are increasingly looking to digital\n",
      "technology to overcome today’s challenges and emerge stronger. And no\n",
      "\n",
      "company is better positioned to help them than Microsoft.  \n",
      "Every day\n",
      "this past fiscal year I have had the privilege to witness our customers\n",
      "use our platforms and tools to connect \n",
      "what technology can do with\n",
      "what the world needs  it to do.  \n",
      "Here are just a few examples:  \n",
      "•\n",
      "Ferrovial, which builds and manages some of the world’s busiest\n",
      "airports and highways, is using our cloud \n",
      "infrastructure to build\n",
      "safer roads as it prepares for a future of autonomous transportation. \n",
      "\n",
      "• Peace Parks Foundation, a nonprofit helping protect natural\n",
      "ecosystems in Southern Africa, is using Microsoft \n",
      "Dynamics 365 and\n",
      "Power BI to secure essential funding, as well as our Azure AI and IoT\n",
      "solutions to help \n",
      "rangers scale their park maintenance and wildlife\n",
      "crime prevention work.  \n",
      "• One of the world’s largest robotics\n",
      "companies, Kawasaki Heavy Industries, is using the breadth of our tools\n",
      "—\n",
      "from Azure IoT and HoloLens —to create an industrial metaverse\n",
      "solution that brings its distributed workforce \n",
      "together with its\n",
      "network of connected equipment to improve productivity and keep\n",
      "employees safe.  \n",
      "• Globo, the biggest media and TV company in Brazil,\n",
      "is using Power Platform to empower its employees to \n",
      "build their own\n",
      "solutions for everything from booking sets to setting schedules.  \n",
      "•\n",
      "And Ørsted, which produces a quarter of the world’s wind energy, is\n",
      "using the Microsoft Intelligent Data \n",
      "Platform to turn data from its\n",
      "offshore turbines into insights for predictive maintenance.  \n",
      "Amid this\n",
      "dynamic environment, we delivered record results in fiscal year 2022:\n",
      "We reported $198  billion in revenue and \n",
      "$83 billion in operating\n",
      "income. And the Microsoft Cloud surpassed $100  billion in annualized\n",
      "revenue for the first time.  \n",
      "OUR RESPONSIBILITY  \n",
      "As a corporation,\n",
      "our purpose and actions must be aligned with addressing the world’s\n",
      "problems, not creating new ones. \n",
      "At our very core, we need to deliver\n",
      "innovation that helps drive broad economic growth. We, as a company,\n",
      "will do well \n",
      "when the world around us does well.  \n",
      "That’s what I\n",
      "believe will lead to widespread human progress and ultimately improve\n",
      "the lives of everyone. There is no \n",
      "more powerful input than digital\n",
      "technology to drive the world’s economic output. This is the core\n",
      "thesis for our being as a \n",
      "company, but it’s not enough. As we drive\n",
      "global economic growth, we must also commit to creating a more\n",
      "inclusive, \n",
      "equitable, sustainable, and trusted future.  \n",
      "Support\n",
      "inclusive economic growth  \n",
      "We must ensure the growth we drive reaches\n",
      "every person, organization, community, and country. This starts with\n",
      "\n",
      "increasing access to digital skills. This year alone, more than 23 \n",
      "million people accessed digital skills training as part of \n",
      "our global\n",
      "skills initiative.\n"
     ]
    }
   ],
   "source": [
    "print(word_wrap(pdf_texts[0]))"
   ]
  },
  {
   "cell_type": "markdown",
   "metadata": {},
   "source": [
    "# Split"
   ]
  },
  {
   "cell_type": "code",
   "execution_count": 10,
   "metadata": {},
   "outputs": [],
   "source": [
    "from langchain.text_splitter import RecursiveCharacterTextSplitter, SentenceTransformersTokenTextSplitter"
   ]
  },
  {
   "cell_type": "code",
   "execution_count": null,
   "metadata": {},
   "outputs": [],
   "source": [
    "character_splitter = RecursiveCharacterTextSplitter(\n",
    "    separators=[\"\\n\\n\", \"\\n\", \". \", \" \", \"\"],\n",
    "    chunk_size=1000,\n",
    "    chunk_overlap=0\n",
    ")\n",
    "character_split_texts = character_splitter.split_text(\"\\n\\n\".join(pdf_texts))\n",
    "character_split_texts"
   ]
  },
  {
   "cell_type": "code",
   "execution_count": 21,
   "metadata": {},
   "outputs": [
    {
     "data": {
      "text/plain": [
       "'1 Dear shareholders, colleagues, customers, and partners:  \\nWe are living through a period of historic economic, societal, and geopolitical change. The world in 2022 looks nothing like \\nthe world in 2019. As I write this, inflation is at a 40 -year high, supply chains are stretched, and the war in Ukraine is \\nongoing. At the same time, we are entering a technological era with the potential to power awesome advancements \\nacross every sector of our economy and society. As the world’s largest software company, this places us at a historic \\nintersection of opportunity and responsibility to the world around us.  \\nOur mission to empower every person and every organization on the planet to achieve more has never been more \\nurgent or more necessary. For all the uncertainty in the world, one thing is clear: People and organizations in every \\nindustry are increasingly looking to digital technology to overcome today’s challenges and emerge stronger. And no \\ncompany is better positioned to help them than Microsoft.  \\nEvery day this past fiscal year I have had the privilege to witness our customers use our platforms and tools to connect \\nwhat technology can do with what the world needs  it to do.  \\nHere are just a few examples:  \\n• Ferrovial, which builds and manages some of the world’s busiest airports and highways, is using our cloud \\ninfrastructure to build safer roads as it prepares for a future of autonomous transportation.  \\n• Peace Parks Foundation, a nonprofit helping protect natural ecosystems in Southern Africa, is using Microsoft \\nDynamics 365 and Power BI to secure essential funding, as well as our Azure AI and IoT solutions to help \\nrangers scale their park maintenance and wildlife crime prevention work.  \\n• One of the world’s largest robotics companies, Kawasaki Heavy Industries, is using the breadth of our tools —\\nfrom Azure IoT and HoloLens —to create an industrial metaverse solution that brings its distributed workforce \\ntogether with its network of connected equipment to improve productivity and keep employees safe.  \\n• Globo, the biggest media and TV company in Brazil, is using Power Platform to empower its employees to \\nbuild their own solutions for everything from booking sets to setting schedules.  \\n• And Ørsted, which produces a quarter of the world’s wind energy, is using the Microsoft Intelligent Data \\nPlatform to turn data from its offshore turbines into insights for predictive maintenance.  \\nAmid this dynamic environment, we delivered record results in fiscal year 2022: We reported $198  billion in revenue and \\n$83 billion in operating income. And the Microsoft Cloud surpassed $100  billion in annualized revenue for the first time.  \\nOUR RESPONSIBILITY  \\nAs a corporation, our purpose and actions must be aligned with addressing the world’s problems, not creating new ones. \\nAt our very core, we need to deliver innovation that helps drive broad economic growth. We, as a company, will do well \\nwhen the world around us does well.  \\nThat’s what I believe will lead to widespread human progress and ultimately improve the lives of everyone. There is no \\nmore powerful input than digital technology to drive the world’s economic output. This is the core thesis for our being as a \\ncompany, but it’s not enough. As we drive global economic growth, we must also commit to creating a more inclusive, \\nequitable, sustainable, and trusted future.  \\nSupport inclusive economic growth  \\nWe must ensure the growth we drive reaches every person, organization, community, and country. This starts with \\nincreasing access to digital skills. This year alone, more than 23  million people accessed digital skills training as part of \\nour global skills initiative.'"
      ]
     },
     "execution_count": 21,
     "metadata": {},
     "output_type": "execute_result"
    }
   ],
   "source": [
    "pdf_texts[0]"
   ]
  },
  {
   "cell_type": "code",
   "execution_count": 24,
   "metadata": {},
   "outputs": [
    {
     "data": {
      "text/plain": [
       "'1 Dear shareholders, colleagues, customers, and partners:  \\nWe are living through a period of historic economic, societal, and geopolitical change. The world in 2022 looks nothing like \\nthe world in 2019. As I write this, inflation is at a 40 -year high, supply chains are stretched, and the war in Ukraine is \\nongoing. At the same time, we are entering a technological era with the potential to power awesome advancements \\nacross every sector of our economy and society. As the world’s largest software company, this places us at a historic \\nintersection of opportunity and responsibility to the world around us.  \\nOur mission to empower every person and every organization on the planet to achieve more has never been more \\nurgent or more necessary. For all the uncertainty in the world, one thing is clear: People and organizations in every \\nindustry are increasingly looking to digital technology to overcome today’s challenges and emerge stronger. And no'"
      ]
     },
     "execution_count": 24,
     "metadata": {},
     "output_type": "execute_result"
    }
   ],
   "source": [
    "character_split_texts[0]"
   ]
  },
  {
   "cell_type": "code",
   "execution_count": 20,
   "metadata": {},
   "outputs": [
    {
     "name": "stdout",
     "output_type": "stream",
     "text": [
      "1 Dear shareholders, colleagues, customers, and partners:  \n",
      "We are\n",
      "living through a period of historic economic, societal, and\n",
      "geopolitical change. The world in 2022 looks nothing like \n",
      "the world in\n",
      "2019. As I write this, inflation is at a 40 -year high, supply chains\n",
      "are stretched, and the war in Ukraine is \n",
      "ongoing. At the same time, we\n",
      "are entering a technological era with the potential to power awesome\n",
      "advancements \n",
      "across every sector of our economy and society. As the\n",
      "world’s largest software company, this places us at a historic\n",
      "\n",
      "intersection of opportunity and responsibility to the world around us.\n",
      " \n",
      "Our mission to empower every person and every organization on the\n",
      "planet to achieve more has never been more \n",
      "urgent or more necessary.\n",
      "For all the uncertainty in the world, one thing is clear: People and\n",
      "organizations in every \n",
      "industry are increasingly looking to digital\n",
      "technology to overcome today’s challenges and emerge stronger. And no\n",
      "\n",
      "company is better positioned to help them than Microsoft.  \n",
      "Every day\n",
      "this past fiscal year I have had the privilege to witness our customers\n",
      "use our platforms and tools to connect \n",
      "what technology can do with\n",
      "what the world needs  it to do.  \n",
      "Here are just a few examples:  \n",
      "•\n",
      "Ferrovial, which builds and manages some of the world’s busiest\n",
      "airports and highways, is using our cloud \n",
      "infrastructure to build\n",
      "safer roads as it prepares for a future of autonomous transportation. \n",
      "\n",
      "• Peace Parks Foundation, a nonprofit helping protect natural\n",
      "ecosystems in Southern Africa, is using Microsoft \n",
      "Dynamics 365 and\n",
      "Power BI to secure essential funding, as well as our Azure AI and IoT\n",
      "solutions to help \n",
      "rangers scale their park maintenance and wildlife\n",
      "crime prevention work.  \n",
      "• One of the world’s largest robotics\n",
      "companies, Kawasaki Heavy Industries, is using the breadth of our tools\n",
      "—\n",
      "from Azure IoT and HoloLens —to create an industrial metaverse\n",
      "solution that brings its distributed workforce \n",
      "together with its\n",
      "network of connected equipment to improve productivity and keep\n",
      "employees safe.  \n",
      "• Globo, the biggest media and TV company in Brazil,\n",
      "is using Power Platform to empower its employees to \n",
      "build their own\n",
      "solutions for everything from booking sets to setting schedules.  \n",
      "•\n",
      "And Ørsted, which produces a quarter of the world’s wind energy, is\n",
      "using the Microsoft Intelligent Data \n",
      "Platform to turn data from its\n",
      "offshore turbines into insights for predictive maintenance.  \n",
      "Amid this\n",
      "dynamic environment, we delivered record results in fiscal year 2022:\n",
      "We reported $198  billion in revenue and \n",
      "$83 billion in operating\n",
      "income. And the Microsoft Cloud surpassed $100  billion in annualized\n",
      "revenue for the first time.  \n",
      "OUR RESPONSIBILITY  \n",
      "As a corporation,\n",
      "our purpose and actions must be aligned with addressing the world’s\n",
      "problems, not creating new ones. \n",
      "At our very core, we need to deliver\n",
      "innovation that helps drive broad economic growth. We, as a company,\n",
      "will do well \n",
      "when the world around us does well.  \n",
      "That’s what I\n",
      "believe will lead to widespread human progress and ultimately improve\n",
      "the lives of everyone. There is no \n",
      "more powerful input than digital\n",
      "technology to drive the world’s economic output. This is the core\n",
      "thesis for our being as a \n",
      "company, but it’s not enough. As we drive\n",
      "global economic growth, we must also commit to creating a more\n",
      "inclusive, \n",
      "equitable, sustainable, and trusted future.  \n",
      "Support\n",
      "inclusive economic growth  \n",
      "We must ensure the growth we drive reaches\n",
      "every person, organization, community, and country. This starts with\n",
      "\n",
      "increasing access to digital skills. This year alone, more than 23 \n",
      "million people accessed digital skills training as part of \n",
      "our global\n",
      "skills initiative.\n"
     ]
    }
   ],
   "source": [
    "print(word_wrap(pdf_texts[0]))"
   ]
  },
  {
   "cell_type": "code",
   "execution_count": 16,
   "metadata": {},
   "outputs": [
    {
     "name": "stdout",
     "output_type": "stream",
     "text": [
      "1 Dear shareholders, colleagues, customers, and partners:  \n",
      "We are\n",
      "living through a period of historic economic, societal, and\n",
      "geopolitical change. The world in 2022 looks nothing like \n",
      "the world in\n",
      "2019. As I write this, inflation is at a 40 -year high, supply chains\n",
      "are stretched, and the war in Ukraine is \n",
      "ongoing. At the same time, we\n",
      "are entering a technological era with the potential to power awesome\n",
      "advancements \n",
      "across every sector of our economy and society. As the\n",
      "world’s largest software company, this places us at a historic\n",
      "\n",
      "intersection of opportunity and responsibility to the world around us.\n",
      " \n",
      "Our mission to empower every person and every organization on the\n",
      "planet to achieve more has never been more \n",
      "urgent or more necessary.\n",
      "For all the uncertainty in the world, one thing is clear: People and\n",
      "organizations in every \n",
      "industry are increasingly looking to digital\n",
      "technology to overcome today’s challenges and emerge stronger. And no\n"
     ]
    }
   ],
   "source": [
    "print(word_wrap(character_split_texts[0]))"
   ]
  },
  {
   "cell_type": "code",
   "execution_count": 17,
   "metadata": {},
   "outputs": [
    {
     "name": "stdout",
     "output_type": "stream",
     "text": [
      "\n",
      "Total chunks: 347\n"
     ]
    }
   ],
   "source": [
    "print(f\"\\nTotal chunks: {len(character_split_texts)}\")"
   ]
  },
  {
   "cell_type": "code",
   "execution_count": 19,
   "metadata": {},
   "outputs": [
    {
     "name": "stdout",
     "output_type": "stream",
     "text": [
      "1 dear shareholders, colleagues, customers, and partners : we are\n",
      "living through a period of historic economic, societal, and\n",
      "geopolitical change. the world in 2022 looks nothing like the world in\n",
      "2019. as i write this, inflation is at a 40 - year high, supply chains\n",
      "are stretched, and the war in ukraine is ongoing. at the same time, we\n",
      "are entering a technological era with the potential to power awesome\n",
      "advancements across every sector of our economy and society. as the\n",
      "world ’ s largest software company, this places us at a historic\n",
      "intersection of opportunity and responsibility to the world around us.\n",
      "our mission to empower every person and every organization on the\n",
      "planet to achieve more has never been more urgent or more necessary.\n",
      "for all the uncertainty in the world, one thing is clear : people and\n",
      "organizations in every industry are increasingly looking to digital\n",
      "technology to overcome today ’ s challenges and emerge stronger. and no\n",
      "\n",
      "Total chunks: 349\n"
     ]
    }
   ],
   "source": [
    "token_splitter = SentenceTransformersTokenTextSplitter(chunk_overlap=0, tokens_per_chunk=256)\n",
    "\n",
    "token_split_texts = []\n",
    "for text in character_split_texts:\n",
    "    token_split_texts += token_splitter.split_text(text)\n",
    "\n",
    "print(word_wrap(token_split_texts[0]))\n",
    "print(f\"\\nTotal chunks: {len(token_split_texts)}\")"
   ]
  },
  {
   "cell_type": "markdown",
   "metadata": {},
   "source": [
    "# Create Embedding"
   ]
  },
  {
   "cell_type": "code",
   "execution_count": 25,
   "metadata": {},
   "outputs": [],
   "source": [
    "import chromadb\n",
    "from chromadb.utils.embedding_functions import SentenceTransformerEmbeddingFunction"
   ]
  },
  {
   "cell_type": "code",
   "execution_count": 29,
   "metadata": {},
   "outputs": [
    {
     "name": "stdout",
     "output_type": "stream",
     "text": [
      "[[-0.05130082741379738, -0.01177326962351799, 0.04940268397331238, -0.07973459362983704, 0.014822038821876049, -0.01708572916686535, -0.0371210016310215, 0.010243208147585392, 0.029443394392728806, -0.01155105046927929, -0.029305987060070038, 0.059875961393117905, 0.041933707892894745, 0.0009109887178055942, -0.0002481822739355266, 0.05570559203624725, -0.09504479914903641, -0.1123923659324646, -0.044670600444078445, -0.002800917951390147, -0.024321123957633972, -0.01566246896982193, -0.04968540742993355, 0.017255671322345734, -0.04192955419421196, 0.029317880049347878, -0.02145371586084366, -0.07143813371658325, -0.03475288674235344, 0.021638253703713417, -0.015290451236069202, 0.05068206042051315, 0.02924402616918087, 0.04425172880291939, 0.03545274958014488, 0.02268890291452408, 0.06838448345661163, -0.020329993218183517, 0.019099777564406395, -0.0992356464266777, -0.011153751984238625, -0.12798883020877838, -0.03553144633769989, 0.0163593627512455, 0.06487607955932617, -0.018440263345837593, 0.030110608786344528, -0.000647866923827678, -0.061142448335886, 0.006255332380533218, -0.10472380369901657, -0.12337834388017654, 0.07177507132291794, -0.04876406863331795, -0.035349760204553604, 0.04441197216510773, 0.08683335781097412, -0.012890043668448925, 0.0564454160630703, -0.05071078985929489, -0.008452692069113255, -0.09816174954175949, 0.0123241962864995, 0.08457749336957932, 0.08165618777275085, 0.027909809723496437, 0.07864916324615479, 0.04336828738451004, -0.09593530744314194, 0.04153764620423317, 0.014765302650630474, -0.016534768044948578, 0.009354825131595135, 0.004344872664660215, -0.024660833179950714, -0.008336462080478668, -0.0039043265860527754, 0.03367549926042557, 0.0903051421046257, 0.008840381167829037, 0.1503673493862152, -0.04859576374292374, -0.01459740474820137, 0.006700057070702314, -0.17416897416114807, 0.006586630363017321, 0.014772545546293259, -0.002240321133285761, 0.02414431981742382, -0.004365663044154644, -0.06448408216238022, 0.012195841409265995, 0.06977040320634842, 0.07973507791757584, -0.05424875393509865, -0.0043095978908240795, 0.00030749369761906564, -0.03291667625308037, -0.013122235424816608, 0.027751628309488297, 0.0049994634464383125, 0.08341742306947708, 0.027520189061760902, -0.10297175496816635, -0.04937877506017685, -0.047163572162389755, -0.012486264109611511, 0.03602929413318634, 0.006898270919919014, 0.004075470380485058, -0.04286167770624161, -0.008123855106532574, -0.042281024158000946, -0.08126318454742432, -0.00017321950872428715, -0.04409197345376015, -0.06307249516248703, 0.05959480255842209, 0.06907683610916138, -0.005534640979021788, 0.03482584282755852, 0.05111866816878319, -0.1026979461312294, 0.019466649740934372, 0.013708296231925488, -0.007325111422687769, -0.02759256772696972, 3.0317615612439175e-33, -0.014413760043680668, 0.03582143411040306, -0.002160673961043358, 0.070151187479496, -0.030958477407693863, 0.03819296509027481, -0.010284096002578735, 0.024408701807260513, -0.07152144610881805, -0.03928839787840843, -0.029540732502937317, 0.046306103467941284, -0.027168165892362595, 0.06463056057691574, 0.10263711959123611, -0.10057973861694336, -0.0290219746530056, 0.0166145171970129, 0.09004930406808853, 0.01628659851849079, 0.05354442074894905, -0.03816339001059532, -0.00879159290343523, -0.019979454576969147, 0.03517534211277962, -0.007334839086979628, 0.0026807868853211403, 0.013374172151088715, 0.08142340183258057, 0.013981429859995842, 0.01280130259692669, 0.005293301772326231, 0.012714008800685406, -0.04236643761396408, -0.04484282433986664, -0.018259823322296143, -0.09511500597000122, -0.01754751056432724, 0.03324832394719124, -0.0029460545629262924, -0.057378850877285004, 0.05465896800160408, -0.09315609931945801, -0.0579778328537941, 0.07579109072685242, 0.003136227373033762, 0.12044918537139893, 0.020674128085374832, -0.020472727715969086, 0.045800529420375824, -0.06194443255662918, 0.03642619401216507, -0.041459619998931885, 0.02206447161734104, 0.0713954046368599, -0.07250916212797165, -0.013880393467843533, -0.08454497903585434, 0.04669979214668274, -0.02850121259689331, 0.014444884844124317, -0.02292037196457386, 0.00712268240749836, 0.05020378157496452, -0.04516572132706642, 0.054237037897109985, 0.07352875173091888, 0.005797467660158873, -0.052784014493227005, 0.09038922935724258, 0.02565680630505085, -0.0522058829665184, -0.042719777673482895, -0.0013143016258254647, -0.03342844173312187, 0.03854468837380409, 0.013287759386003017, -0.06187235563993454, 0.0031435112468898296, 0.01396157592535019, -0.03362176567316055, 0.03772735968232155, 0.08867230266332626, 0.025464380159974098, 0.0718490332365036, 0.040271174162626266, 0.04050186648964882, 0.01827547885477543, -0.026140660047531128, 0.08376872539520264, -0.11482621729373932, -0.04682425409555435, 0.008526500314474106, 0.1056317538022995, 0.024292808026075363, -6.36431082102815e-33, 0.01895427331328392, 0.00151300267316401, 0.003951348830014467, 0.006927934940904379, -0.0134926438331604, -0.06913823634386063, 0.0007894443697296083, 0.03157820925116539, 0.043658237904310226, 0.046862710267305374, 0.015247432515025139, 0.013004248961806297, 0.02159891463816166, 0.033610664308071136, -0.060907166451215744, -0.05978504940867424, 0.07211099565029144, -0.12070734798908234, -0.04531428962945938, -0.08660358935594559, 0.006161465309560299, 0.011801298707723618, -0.07755762338638306, 0.053652651607990265, -0.02216632477939129, 0.04151955991983414, 0.04835357889533043, -0.05181083828210831, -0.0014715776778757572, 0.03893252834677696, -0.07923602312803268, -0.062413692474365234, 0.003488613525405526, 0.07706449925899506, 0.0674908235669136, -0.027325689792633057, 0.040650807321071625, -0.0966147780418396, 0.008977753110229969, 0.027113566175103188, 0.00842603575438261, 0.039132844656705856, -0.07368128001689911, 0.0003287964209448546, -0.02196205034852028, 0.014346457086503506, 0.027726538479328156, -0.011666147969663143, 0.022913264110684395, -0.05782049894332886, 0.046051137149333954, 0.025136645883321762, 0.03154344856739044, -0.033505674451589584, -0.029328014701604843, -0.010165276005864143, 0.01909322291612625, -0.013475430198013783, -0.009461017325520515, 0.0026890512090176344, -0.03597963973879814, -0.019753746688365936, -0.0030209312681108713, 0.03998178616166115, -0.018101833760738373, -0.025797151029109955, 0.04855883866548538, 0.08148238062858582, -0.0536070354282856, 0.00958663783967495, 0.07334862649440765, -0.0339851900935173, -0.16463087499141693, -0.04629375413060188, -0.06495367735624313, 0.033810414373874664, -0.009244189597666264, -0.011534173972904682, -0.03659506142139435, -0.00946267880499363, 0.05156520754098892, 0.10053887218236923, 0.05615415796637535, -0.004771208390593529, 0.0024648387916386127, 0.022198429331183434, 0.029117893427610397, -0.043619513511657715, -0.12596465647220612, -0.0484941229224205, -0.15412409603595734, -0.010657154954969883, -0.07892893254756927, 0.018986746668815613, -0.008998132310807705, -6.561410970107318e-08, -0.018121013417840004, -0.03664750978350639, 0.024271788075566292, 0.02399616129696369, 0.024297038093209267, -0.03257834538817406, 0.053483810275793076, 0.04232636094093323, 0.025636302307248116, 0.05491069704294205, 0.02980869635939598, -0.05178092420101166, -0.011935988441109657, 0.05994443967938423, 0.048132628202438354, 0.06666203588247299, -0.09307701885700226, 0.01038597896695137, -0.05345214158296585, -0.021931743249297142, 0.06251192837953568, 0.021128131076693535, 0.02871921844780445, -0.05276063457131386, -0.009427868761122227, -3.568570718925912e-06, -0.0049504502676427364, 0.00960798840969801, -0.0014825827674940228, 0.0026093930937349796, -0.04925386235117912, -0.0484931580722332, -0.045481033623218536, -0.03737274557352066, -0.051712725311517715, -0.07445815205574036, 0.025309285148978233, 0.037896495312452316, 0.02090633474290371, -0.04679902270436287, -0.03383178263902664, 0.03379354998469353, -0.011521040461957455, 0.04303056001663208, -0.018841255456209183, -0.13982751965522766, -0.05612456426024437, 0.03027316741645336, -0.017181383445858955, -0.024222517386078835, -0.060056816786527634, 0.0038096585776656866, 0.014961697161197662, 0.07095222175121307, 0.04534657672047615, -0.012426519766449928, -0.028814654797315598, 0.058703839778900146, -0.08985737711191177, 0.09533291310071945, 0.07635074108839035, -0.1251610368490219, -0.033546172082424164, 0.025717709213495255]]\n"
     ]
    }
   ],
   "source": [
    "embedding_function = SentenceTransformerEmbeddingFunction()\n",
    "print(embedding_function([token_split_texts[0]]))"
   ]
  },
  {
   "cell_type": "markdown",
   "metadata": {},
   "source": [
    "# Save to DB"
   ]
  },
  {
   "cell_type": "code",
   "execution_count": 30,
   "metadata": {},
   "outputs": [],
   "source": [
    "chroma_client = chromadb.Client()\n",
    "chroma_collection = chroma_client.create_collection(\"microsoft_annual_report_2022\", embedding_function=embedding_function)\n",
    "\n",
    "ids = [str(i) for i in range(len(token_split_texts))]"
   ]
  },
  {
   "cell_type": "code",
   "execution_count": 32,
   "metadata": {},
   "outputs": [
    {
     "data": {
      "text/plain": [
       "349"
      ]
     },
     "execution_count": 32,
     "metadata": {},
     "output_type": "execute_result"
    }
   ],
   "source": [
    "chroma_collection.add(ids=ids, documents=token_split_texts)\n",
    "chroma_collection.count()"
   ]
  },
  {
   "cell_type": "markdown",
   "metadata": {},
   "source": [
    "# Try Query and Get Data from DB"
   ]
  },
  {
   "cell_type": "code",
   "execution_count": 33,
   "metadata": {},
   "outputs": [],
   "source": [
    "query = \"What was the total revenue?\"\n",
    "\n",
    "results = chroma_collection.query(query_texts=[query], n_results=5)\n",
    "retrieved_documents = results['documents'][0]"
   ]
  },
  {
   "cell_type": "code",
   "execution_count": 34,
   "metadata": {},
   "outputs": [
    {
     "data": {
      "text/plain": [
       "['revenue, classified by significant product and service offerings, was as follows : ( in millions ) year ended june 30, 2022 2021 2020 server products and cloud services $ 67, 321 $ 52, 589 $ 41, 379 office products and cloud services 44, 862 39, 872 35, 316 windows 24, 761 22, 488 21, 510 gaming 16, 230 15, 370 11, 575 linkedin 13, 816 10, 289 8, 077 search and news advertising 11, 591 9, 267 8, 524 enterprise services 7, 407 6, 943 6, 409 devices 6, 991 6, 791 6, 457 other 5, 291 4, 479 3, 768 total $ 198, 270 $ 168, 088 $ 143, 015 we have recast certain previously reported amounts in the table above to conform to the way we internally manage and monitor our business.',\n",
       " '74 note 13 — unearned revenue unearned revenue by segment was as follows : ( in millions ) june 30, 2022 2021 productivity and business processes $ 24, 558 $ 22, 120 intelligent cloud 19, 371 17, 710 more personal computing 4, 479 4, 311 total $ 48, 408 $ 44, 141 changes in unearned revenue were as follows : ( in millions ) year ended june 30, 2022 balance, beginning of period $ 44, 141 deferral of revenue 110, 455 recognition of unearned revenue ( 106, 188 ) balance, end of period $ 48, 408 revenue allocated to remaining performance obligations, which includes unearned revenue and amounts that will be invoiced and recognized as revenue in future periods, was $ 193 billion as of june 30, 2022, of which $ 189 billion is related to the commercial portion of revenue. we expect to recognize approximately 45 % of this revenue over the next 12',\n",
       " 'that are not sold separately. • we tested the mathematical accuracy of management ’ s calculations of revenue and the associated timing of revenue recognized in the financial statements.',\n",
       " '82 in addition, certain costs incurred at a corporate level that are identifiable and that benefit our segments are allocated to them. these allocated costs include legal, including settlements and fines, information technology, human resources, finance, excise taxes, field selling, shared facilities services, and customer service and support. each allocation is measured differently based on the specific facts and circumstances of the costs being allocated. segment revenue and operating income were as follows during the periods presented : ( in millions ) year ended june 30, 2022 2021 2020 revenue productivity and business processes $ 63, 364 $ 53, 915 $ 46, 398 intelligent cloud 75, 251 60, 080 48, 366 more personal computing 59, 655 54, 093 48, 251 total $ 198, 270 $ 168, 088 $ 143, 015 operating income',\n",
       " '47 financial statements and supplementary data income statements ( in millions, except per share amounts ) year ended june 30, 2022 2021 2020 revenue : product $ 72, 732 $ 71, 074 $ 68, 041 service and other 125, 538 97, 014 74, 974 total revenue 198, 270 168, 088 143, 015 cost of revenue : product 19, 064 18, 219 16, 017 service and other 43, 586 34, 013 30, 061 total cost of revenue 62, 650 52, 232 46, 078 gross margin 135, 620 115, 856 96, 937 research and development 24, 512 20, 716 19, 269 sales and marketing 21, 825 20, 117 19, 598 general and administrative 5, 900 5, 107 5, 111 operating income 83, 383 69, 916 52, 959 other income, net 333 1, 186 77 income before income taxes 83, 716 71, 102 53, 036 provision for income taxes 10, 978 9, 831 8, 755']"
      ]
     },
     "execution_count": 34,
     "metadata": {},
     "output_type": "execute_result"
    }
   ],
   "source": [
    "retrieved_documents"
   ]
  },
  {
   "cell_type": "code",
   "execution_count": 35,
   "metadata": {},
   "outputs": [
    {
     "name": "stdout",
     "output_type": "stream",
     "text": [
      "revenue, classified by significant product and service offerings, was\n",
      "as follows : ( in millions ) year ended june 30, 2022 2021 2020 server\n",
      "products and cloud services $ 67, 321 $ 52, 589 $ 41, 379 office\n",
      "products and cloud services 44, 862 39, 872 35, 316 windows 24, 761 22,\n",
      "488 21, 510 gaming 16, 230 15, 370 11, 575 linkedin 13, 816 10, 289 8,\n",
      "077 search and news advertising 11, 591 9, 267 8, 524 enterprise\n",
      "services 7, 407 6, 943 6, 409 devices 6, 991 6, 791 6, 457 other 5, 291\n",
      "4, 479 3, 768 total $ 198, 270 $ 168, 088 $ 143, 015 we have recast\n",
      "certain previously reported amounts in the table above to conform to\n",
      "the way we internally manage and monitor our business.\n",
      "\n",
      "\n",
      "74 note 13 — unearned revenue unearned revenue by segment was as\n",
      "follows : ( in millions ) june 30, 2022 2021 productivity and business\n",
      "processes $ 24, 558 $ 22, 120 intelligent cloud 19, 371 17, 710 more\n",
      "personal computing 4, 479 4, 311 total $ 48, 408 $ 44, 141 changes in\n",
      "unearned revenue were as follows : ( in millions ) year ended june 30,\n",
      "2022 balance, beginning of period $ 44, 141 deferral of revenue 110,\n",
      "455 recognition of unearned revenue ( 106, 188 ) balance, end of period\n",
      "$ 48, 408 revenue allocated to remaining performance obligations, which\n",
      "includes unearned revenue and amounts that will be invoiced and\n",
      "recognized as revenue in future periods, was $ 193 billion as of june\n",
      "30, 2022, of which $ 189 billion is related to the commercial portion\n",
      "of revenue. we expect to recognize approximately 45 % of this revenue\n",
      "over the next 12\n",
      "\n",
      "\n",
      "that are not sold separately. • we tested the mathematical accuracy of\n",
      "management ’ s calculations of revenue and the associated timing of\n",
      "revenue recognized in the financial statements.\n",
      "\n",
      "\n",
      "82 in addition, certain costs incurred at a corporate level that are\n",
      "identifiable and that benefit our segments are allocated to them. these\n",
      "allocated costs include legal, including settlements and fines,\n",
      "information technology, human resources, finance, excise taxes, field\n",
      "selling, shared facilities services, and customer service and support.\n",
      "each allocation is measured differently based on the specific facts and\n",
      "circumstances of the costs being allocated. segment revenue and\n",
      "operating income were as follows during the periods presented : ( in\n",
      "millions ) year ended june 30, 2022 2021 2020 revenue productivity and\n",
      "business processes $ 63, 364 $ 53, 915 $ 46, 398 intelligent cloud 75,\n",
      "251 60, 080 48, 366 more personal computing 59, 655 54, 093 48, 251\n",
      "total $ 198, 270 $ 168, 088 $ 143, 015 operating income\n",
      "\n",
      "\n",
      "47 financial statements and supplementary data income statements ( in\n",
      "millions, except per share amounts ) year ended june 30, 2022 2021 2020\n",
      "revenue : product $ 72, 732 $ 71, 074 $ 68, 041 service and other 125,\n",
      "538 97, 014 74, 974 total revenue 198, 270 168, 088 143, 015 cost of\n",
      "revenue : product 19, 064 18, 219 16, 017 service and other 43, 586 34,\n",
      "013 30, 061 total cost of revenue 62, 650 52, 232 46, 078 gross margin\n",
      "135, 620 115, 856 96, 937 research and development 24, 512 20, 716 19,\n",
      "269 sales and marketing 21, 825 20, 117 19, 598 general and\n",
      "administrative 5, 900 5, 107 5, 111 operating income 83, 383 69, 916\n",
      "52, 959 other income, net 333 1, 186 77 income before income taxes 83,\n",
      "716 71, 102 53, 036 provision for income taxes 10, 978 9, 831 8, 755\n",
      "\n",
      "\n"
     ]
    }
   ],
   "source": [
    "for document in retrieved_documents:\n",
    "    print(word_wrap(document))\n",
    "    print(\"\\n\")"
   ]
  },
  {
   "cell_type": "markdown",
   "metadata": {},
   "source": [
    "# Combine with LLM"
   ]
  },
  {
   "cell_type": "code",
   "execution_count": 37,
   "metadata": {},
   "outputs": [],
   "source": [
    "import os\n",
    "import openai\n",
    "from openai import OpenAI\n",
    "from dotenv import load_dotenv, find_dotenv"
   ]
  },
  {
   "cell_type": "code",
   "execution_count": 38,
   "metadata": {},
   "outputs": [],
   "source": [
    "_ = load_dotenv(find_dotenv())\n",
    "openai.api_key = os.environ['OPENAI_API_KEY']\n",
    "openai_client = OpenAI()"
   ]
  },
  {
   "cell_type": "code",
   "execution_count": 39,
   "metadata": {},
   "outputs": [],
   "source": [
    "def rag(query, retrieved_documents, model=\"gpt-3.5-turbo\"):\n",
    "    information = \"\\n\\n\".join(retrieved_documents)\n",
    "\n",
    "    messages = [\n",
    "        {\n",
    "            \"role\": \"system\",\n",
    "            \"content\": \"You are a helpful expert financial research assistant. Your users are asking questions about information contained in an annual report.\"\n",
    "            \"You will be shown the user's question, and the relevant information from the annual report. Answer the user's question using only this information.\"\n",
    "        },\n",
    "        {\"role\": \"user\", \"content\": f\"Question: {query}. \\n Information: {information}\"}\n",
    "    ]\n",
    "\n",
    "    response = openai_client.chat.completions.create(\n",
    "        model=model,\n",
    "        messages=messages\n",
    "    )\n",
    "    content = response.choices[0].message.content\n",
    "    return content"
   ]
  },
  {
   "cell_type": "code",
   "execution_count": 40,
   "metadata": {},
   "outputs": [
    {
     "name": "stdout",
     "output_type": "stream",
     "text": [
      "The total revenue for the year ended June 30, 2022, was $198,270 million.\n"
     ]
    }
   ],
   "source": [
    "output = rag(query=query, retrieved_documents=retrieved_documents)\n",
    "print(output)"
   ]
  },
  {
   "cell_type": "code",
   "execution_count": 41,
   "metadata": {},
   "outputs": [
    {
     "name": "stdout",
     "output_type": "stream",
     "text": [
      "The total revenue for the year ended June 30, 2022, was $198,270\n",
      "million.\n"
     ]
    }
   ],
   "source": [
    "print(word_wrap(output))"
   ]
  },
  {
   "cell_type": "code",
   "execution_count": null,
   "metadata": {},
   "outputs": [],
   "source": []
  }
 ],
 "metadata": {
  "kernelspec": {
   "display_name": ".venv",
   "language": "python",
   "name": "python3"
  },
  "language_info": {
   "codemirror_mode": {
    "name": "ipython",
    "version": 3
   },
   "file_extension": ".py",
   "mimetype": "text/x-python",
   "name": "python",
   "nbconvert_exporter": "python",
   "pygments_lexer": "ipython3",
   "version": "3.10.6"
  }
 },
 "nbformat": 4,
 "nbformat_minor": 2
}
