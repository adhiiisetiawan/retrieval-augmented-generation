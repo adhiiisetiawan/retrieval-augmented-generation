{
 "cells": [
  {
   "cell_type": "code",
   "execution_count": 1,
   "metadata": {},
   "outputs": [],
   "source": [
    "from helper_utils import word_wrap"
   ]
  },
  {
   "cell_type": "code",
   "execution_count": 4,
   "metadata": {},
   "outputs": [],
   "source": [
    "from pypdf import PdfReader\n",
    "\n",
    "reader = PdfReader(\"documents/microsoft_annual_report_2022.pdf\")\n",
    "pdf_texts = [p.extract_text().strip() for p in reader.pages]"
   ]
  },
  {
   "cell_type": "code",
   "execution_count": null,
   "metadata": {},
   "outputs": [],
   "source": [
    "pdf_texts"
   ]
  },
  {
   "cell_type": "code",
   "execution_count": null,
   "metadata": {},
   "outputs": [],
   "source": [
    "# filter empty string\n",
    "pdf_texts = [text for text in pdf_texts if text]\n",
    "pdf_texts"
   ]
  },
  {
   "cell_type": "code",
   "execution_count": 9,
   "metadata": {},
   "outputs": [
    {
     "data": {
      "text/plain": [
       "'1 Dear shareholders, colleagues, customers, and partners:  \\nWe are living through a period of historic economic, societal, and geopolitical change. The world in 2022 looks nothing like \\nthe world in 2019. As I write this, inflation is at a 40 -year high, supply chains are stretched, and the war in Ukraine is \\nongoing. At the same time, we are entering a technological era with the potential to power awesome advancements \\nacross every sector of our economy and society. As the world’s largest software company, this places us at a historic \\nintersection of opportunity and responsibility to the world around us.  \\nOur mission to empower every person and every organization on the planet to achieve more has never been more \\nurgent or more necessary. For all the uncertainty in the world, one thing is clear: People and organizations in every \\nindustry are increasingly looking to digital technology to overcome today’s challenges and emerge stronger. And no \\ncompany is better positioned to help them than Microsoft.  \\nEvery day this past fiscal year I have had the privilege to witness our customers use our platforms and tools to connect \\nwhat technology can do with what the world needs  it to do.  \\nHere are just a few examples:  \\n• Ferrovial, which builds and manages some of the world’s busiest airports and highways, is using our cloud \\ninfrastructure to build safer roads as it prepares for a future of autonomous transportation.  \\n• Peace Parks Foundation, a nonprofit helping protect natural ecosystems in Southern Africa, is using Microsoft \\nDynamics 365 and Power BI to secure essential funding, as well as our Azure AI and IoT solutions to help \\nrangers scale their park maintenance and wildlife crime prevention work.  \\n• One of the world’s largest robotics companies, Kawasaki Heavy Industries, is using the breadth of our tools —\\nfrom Azure IoT and HoloLens —to create an industrial metaverse solution that brings its distributed workforce \\ntogether with its network of connected equipment to improve productivity and keep employees safe.  \\n• Globo, the biggest media and TV company in Brazil, is using Power Platform to empower its employees to \\nbuild their own solutions for everything from booking sets to setting schedules.  \\n• And Ørsted, which produces a quarter of the world’s wind energy, is using the Microsoft Intelligent Data \\nPlatform to turn data from its offshore turbines into insights for predictive maintenance.  \\nAmid this dynamic environment, we delivered record results in fiscal year 2022: We reported $198  billion in revenue and \\n$83 billion in operating income. And the Microsoft Cloud surpassed $100  billion in annualized revenue for the first time.  \\nOUR RESPONSIBILITY  \\nAs a corporation, our purpose and actions must be aligned with addressing the world’s problems, not creating new ones. \\nAt our very core, we need to deliver innovation that helps drive broad economic growth. We, as a company, will do well \\nwhen the world around us does well.  \\nThat’s what I believe will lead to widespread human progress and ultimately improve the lives of everyone. There is no \\nmore powerful input than digital technology to drive the world’s economic output. This is the core thesis for our being as a \\ncompany, but it’s not enough. As we drive global economic growth, we must also commit to creating a more inclusive, \\nequitable, sustainable, and trusted future.  \\nSupport inclusive economic growth  \\nWe must ensure the growth we drive reaches every person, organization, community, and country. This starts with \\nincreasing access to digital skills. This year alone, more than 23  million people accessed digital skills training as part of \\nour global skills initiative.'"
      ]
     },
     "execution_count": 9,
     "metadata": {},
     "output_type": "execute_result"
    }
   ],
   "source": [
    "pdf_texts[0]"
   ]
  },
  {
   "cell_type": "code",
   "execution_count": 8,
   "metadata": {},
   "outputs": [
    {
     "name": "stdout",
     "output_type": "stream",
     "text": [
      "1 Dear shareholders, colleagues, customers, and partners:  \n",
      "We are\n",
      "living through a period of historic economic, societal, and\n",
      "geopolitical change. The world in 2022 looks nothing like \n",
      "the world in\n",
      "2019. As I write this, inflation is at a 40 -year high, supply chains\n",
      "are stretched, and the war in Ukraine is \n",
      "ongoing. At the same time, we\n",
      "are entering a technological era with the potential to power awesome\n",
      "advancements \n",
      "across every sector of our economy and society. As the\n",
      "world’s largest software company, this places us at a historic\n",
      "\n",
      "intersection of opportunity and responsibility to the world around us.\n",
      " \n",
      "Our mission to empower every person and every organization on the\n",
      "planet to achieve more has never been more \n",
      "urgent or more necessary.\n",
      "For all the uncertainty in the world, one thing is clear: People and\n",
      "organizations in every \n",
      "industry are increasingly looking to digital\n",
      "technology to overcome today’s challenges and emerge stronger. And no\n",
      "\n",
      "company is better positioned to help them than Microsoft.  \n",
      "Every day\n",
      "this past fiscal year I have had the privilege to witness our customers\n",
      "use our platforms and tools to connect \n",
      "what technology can do with\n",
      "what the world needs  it to do.  \n",
      "Here are just a few examples:  \n",
      "•\n",
      "Ferrovial, which builds and manages some of the world’s busiest\n",
      "airports and highways, is using our cloud \n",
      "infrastructure to build\n",
      "safer roads as it prepares for a future of autonomous transportation. \n",
      "\n",
      "• Peace Parks Foundation, a nonprofit helping protect natural\n",
      "ecosystems in Southern Africa, is using Microsoft \n",
      "Dynamics 365 and\n",
      "Power BI to secure essential funding, as well as our Azure AI and IoT\n",
      "solutions to help \n",
      "rangers scale their park maintenance and wildlife\n",
      "crime prevention work.  \n",
      "• One of the world’s largest robotics\n",
      "companies, Kawasaki Heavy Industries, is using the breadth of our tools\n",
      "—\n",
      "from Azure IoT and HoloLens —to create an industrial metaverse\n",
      "solution that brings its distributed workforce \n",
      "together with its\n",
      "network of connected equipment to improve productivity and keep\n",
      "employees safe.  \n",
      "• Globo, the biggest media and TV company in Brazil,\n",
      "is using Power Platform to empower its employees to \n",
      "build their own\n",
      "solutions for everything from booking sets to setting schedules.  \n",
      "•\n",
      "And Ørsted, which produces a quarter of the world’s wind energy, is\n",
      "using the Microsoft Intelligent Data \n",
      "Platform to turn data from its\n",
      "offshore turbines into insights for predictive maintenance.  \n",
      "Amid this\n",
      "dynamic environment, we delivered record results in fiscal year 2022:\n",
      "We reported $198  billion in revenue and \n",
      "$83 billion in operating\n",
      "income. And the Microsoft Cloud surpassed $100  billion in annualized\n",
      "revenue for the first time.  \n",
      "OUR RESPONSIBILITY  \n",
      "As a corporation,\n",
      "our purpose and actions must be aligned with addressing the world’s\n",
      "problems, not creating new ones. \n",
      "At our very core, we need to deliver\n",
      "innovation that helps drive broad economic growth. We, as a company,\n",
      "will do well \n",
      "when the world around us does well.  \n",
      "That’s what I\n",
      "believe will lead to widespread human progress and ultimately improve\n",
      "the lives of everyone. There is no \n",
      "more powerful input than digital\n",
      "technology to drive the world’s economic output. This is the core\n",
      "thesis for our being as a \n",
      "company, but it’s not enough. As we drive\n",
      "global economic growth, we must also commit to creating a more\n",
      "inclusive, \n",
      "equitable, sustainable, and trusted future.  \n",
      "Support\n",
      "inclusive economic growth  \n",
      "We must ensure the growth we drive reaches\n",
      "every person, organization, community, and country. This starts with\n",
      "\n",
      "increasing access to digital skills. This year alone, more than 23 \n",
      "million people accessed digital skills training as part of \n",
      "our global\n",
      "skills initiative.\n"
     ]
    }
   ],
   "source": [
    "print(word_wrap(pdf_texts[0]))"
   ]
  },
  {
   "cell_type": "code",
   "execution_count": 10,
   "metadata": {},
   "outputs": [],
   "source": [
    "from langchain.text_splitter import RecursiveCharacterTextSplitter, SentenceTransformersTokenTextSplitter"
   ]
  },
  {
   "cell_type": "code",
   "execution_count": null,
   "metadata": {},
   "outputs": [],
   "source": [
    "character_splitter = RecursiveCharacterTextSplitter(\n",
    "    separators=[\"\\n\\n\", \"\\n\", \". \", \" \", \"\"],\n",
    "    chunk_size=1000,\n",
    "    chunk_overlap=0\n",
    ")\n",
    "character_split_texts = character_splitter.split_text(\"\\n\\n\".join(pdf_texts))\n",
    "character_split_texts"
   ]
  },
  {
   "cell_type": "code",
   "execution_count": 21,
   "metadata": {},
   "outputs": [
    {
     "data": {
      "text/plain": [
       "'1 Dear shareholders, colleagues, customers, and partners:  \\nWe are living through a period of historic economic, societal, and geopolitical change. The world in 2022 looks nothing like \\nthe world in 2019. As I write this, inflation is at a 40 -year high, supply chains are stretched, and the war in Ukraine is \\nongoing. At the same time, we are entering a technological era with the potential to power awesome advancements \\nacross every sector of our economy and society. As the world’s largest software company, this places us at a historic \\nintersection of opportunity and responsibility to the world around us.  \\nOur mission to empower every person and every organization on the planet to achieve more has never been more \\nurgent or more necessary. For all the uncertainty in the world, one thing is clear: People and organizations in every \\nindustry are increasingly looking to digital technology to overcome today’s challenges and emerge stronger. And no \\ncompany is better positioned to help them than Microsoft.  \\nEvery day this past fiscal year I have had the privilege to witness our customers use our platforms and tools to connect \\nwhat technology can do with what the world needs  it to do.  \\nHere are just a few examples:  \\n• Ferrovial, which builds and manages some of the world’s busiest airports and highways, is using our cloud \\ninfrastructure to build safer roads as it prepares for a future of autonomous transportation.  \\n• Peace Parks Foundation, a nonprofit helping protect natural ecosystems in Southern Africa, is using Microsoft \\nDynamics 365 and Power BI to secure essential funding, as well as our Azure AI and IoT solutions to help \\nrangers scale their park maintenance and wildlife crime prevention work.  \\n• One of the world’s largest robotics companies, Kawasaki Heavy Industries, is using the breadth of our tools —\\nfrom Azure IoT and HoloLens —to create an industrial metaverse solution that brings its distributed workforce \\ntogether with its network of connected equipment to improve productivity and keep employees safe.  \\n• Globo, the biggest media and TV company in Brazil, is using Power Platform to empower its employees to \\nbuild their own solutions for everything from booking sets to setting schedules.  \\n• And Ørsted, which produces a quarter of the world’s wind energy, is using the Microsoft Intelligent Data \\nPlatform to turn data from its offshore turbines into insights for predictive maintenance.  \\nAmid this dynamic environment, we delivered record results in fiscal year 2022: We reported $198  billion in revenue and \\n$83 billion in operating income. And the Microsoft Cloud surpassed $100  billion in annualized revenue for the first time.  \\nOUR RESPONSIBILITY  \\nAs a corporation, our purpose and actions must be aligned with addressing the world’s problems, not creating new ones. \\nAt our very core, we need to deliver innovation that helps drive broad economic growth. We, as a company, will do well \\nwhen the world around us does well.  \\nThat’s what I believe will lead to widespread human progress and ultimately improve the lives of everyone. There is no \\nmore powerful input than digital technology to drive the world’s economic output. This is the core thesis for our being as a \\ncompany, but it’s not enough. As we drive global economic growth, we must also commit to creating a more inclusive, \\nequitable, sustainable, and trusted future.  \\nSupport inclusive economic growth  \\nWe must ensure the growth we drive reaches every person, organization, community, and country. This starts with \\nincreasing access to digital skills. This year alone, more than 23  million people accessed digital skills training as part of \\nour global skills initiative.'"
      ]
     },
     "execution_count": 21,
     "metadata": {},
     "output_type": "execute_result"
    }
   ],
   "source": [
    "pdf_texts[0]"
   ]
  },
  {
   "cell_type": "code",
   "execution_count": 24,
   "metadata": {},
   "outputs": [
    {
     "data": {
      "text/plain": [
       "'1 Dear shareholders, colleagues, customers, and partners:  \\nWe are living through a period of historic economic, societal, and geopolitical change. The world in 2022 looks nothing like \\nthe world in 2019. As I write this, inflation is at a 40 -year high, supply chains are stretched, and the war in Ukraine is \\nongoing. At the same time, we are entering a technological era with the potential to power awesome advancements \\nacross every sector of our economy and society. As the world’s largest software company, this places us at a historic \\nintersection of opportunity and responsibility to the world around us.  \\nOur mission to empower every person and every organization on the planet to achieve more has never been more \\nurgent or more necessary. For all the uncertainty in the world, one thing is clear: People and organizations in every \\nindustry are increasingly looking to digital technology to overcome today’s challenges and emerge stronger. And no'"
      ]
     },
     "execution_count": 24,
     "metadata": {},
     "output_type": "execute_result"
    }
   ],
   "source": [
    "character_split_texts[0]"
   ]
  },
  {
   "cell_type": "code",
   "execution_count": 20,
   "metadata": {},
   "outputs": [
    {
     "name": "stdout",
     "output_type": "stream",
     "text": [
      "1 Dear shareholders, colleagues, customers, and partners:  \n",
      "We are\n",
      "living through a period of historic economic, societal, and\n",
      "geopolitical change. The world in 2022 looks nothing like \n",
      "the world in\n",
      "2019. As I write this, inflation is at a 40 -year high, supply chains\n",
      "are stretched, and the war in Ukraine is \n",
      "ongoing. At the same time, we\n",
      "are entering a technological era with the potential to power awesome\n",
      "advancements \n",
      "across every sector of our economy and society. As the\n",
      "world’s largest software company, this places us at a historic\n",
      "\n",
      "intersection of opportunity and responsibility to the world around us.\n",
      " \n",
      "Our mission to empower every person and every organization on the\n",
      "planet to achieve more has never been more \n",
      "urgent or more necessary.\n",
      "For all the uncertainty in the world, one thing is clear: People and\n",
      "organizations in every \n",
      "industry are increasingly looking to digital\n",
      "technology to overcome today’s challenges and emerge stronger. And no\n",
      "\n",
      "company is better positioned to help them than Microsoft.  \n",
      "Every day\n",
      "this past fiscal year I have had the privilege to witness our customers\n",
      "use our platforms and tools to connect \n",
      "what technology can do with\n",
      "what the world needs  it to do.  \n",
      "Here are just a few examples:  \n",
      "•\n",
      "Ferrovial, which builds and manages some of the world’s busiest\n",
      "airports and highways, is using our cloud \n",
      "infrastructure to build\n",
      "safer roads as it prepares for a future of autonomous transportation. \n",
      "\n",
      "• Peace Parks Foundation, a nonprofit helping protect natural\n",
      "ecosystems in Southern Africa, is using Microsoft \n",
      "Dynamics 365 and\n",
      "Power BI to secure essential funding, as well as our Azure AI and IoT\n",
      "solutions to help \n",
      "rangers scale their park maintenance and wildlife\n",
      "crime prevention work.  \n",
      "• One of the world’s largest robotics\n",
      "companies, Kawasaki Heavy Industries, is using the breadth of our tools\n",
      "—\n",
      "from Azure IoT and HoloLens —to create an industrial metaverse\n",
      "solution that brings its distributed workforce \n",
      "together with its\n",
      "network of connected equipment to improve productivity and keep\n",
      "employees safe.  \n",
      "• Globo, the biggest media and TV company in Brazil,\n",
      "is using Power Platform to empower its employees to \n",
      "build their own\n",
      "solutions for everything from booking sets to setting schedules.  \n",
      "•\n",
      "And Ørsted, which produces a quarter of the world’s wind energy, is\n",
      "using the Microsoft Intelligent Data \n",
      "Platform to turn data from its\n",
      "offshore turbines into insights for predictive maintenance.  \n",
      "Amid this\n",
      "dynamic environment, we delivered record results in fiscal year 2022:\n",
      "We reported $198  billion in revenue and \n",
      "$83 billion in operating\n",
      "income. And the Microsoft Cloud surpassed $100  billion in annualized\n",
      "revenue for the first time.  \n",
      "OUR RESPONSIBILITY  \n",
      "As a corporation,\n",
      "our purpose and actions must be aligned with addressing the world’s\n",
      "problems, not creating new ones. \n",
      "At our very core, we need to deliver\n",
      "innovation that helps drive broad economic growth. We, as a company,\n",
      "will do well \n",
      "when the world around us does well.  \n",
      "That’s what I\n",
      "believe will lead to widespread human progress and ultimately improve\n",
      "the lives of everyone. There is no \n",
      "more powerful input than digital\n",
      "technology to drive the world’s economic output. This is the core\n",
      "thesis for our being as a \n",
      "company, but it’s not enough. As we drive\n",
      "global economic growth, we must also commit to creating a more\n",
      "inclusive, \n",
      "equitable, sustainable, and trusted future.  \n",
      "Support\n",
      "inclusive economic growth  \n",
      "We must ensure the growth we drive reaches\n",
      "every person, organization, community, and country. This starts with\n",
      "\n",
      "increasing access to digital skills. This year alone, more than 23 \n",
      "million people accessed digital skills training as part of \n",
      "our global\n",
      "skills initiative.\n"
     ]
    }
   ],
   "source": [
    "print(word_wrap(pdf_texts[0]))"
   ]
  },
  {
   "cell_type": "code",
   "execution_count": 16,
   "metadata": {},
   "outputs": [
    {
     "name": "stdout",
     "output_type": "stream",
     "text": [
      "1 Dear shareholders, colleagues, customers, and partners:  \n",
      "We are\n",
      "living through a period of historic economic, societal, and\n",
      "geopolitical change. The world in 2022 looks nothing like \n",
      "the world in\n",
      "2019. As I write this, inflation is at a 40 -year high, supply chains\n",
      "are stretched, and the war in Ukraine is \n",
      "ongoing. At the same time, we\n",
      "are entering a technological era with the potential to power awesome\n",
      "advancements \n",
      "across every sector of our economy and society. As the\n",
      "world’s largest software company, this places us at a historic\n",
      "\n",
      "intersection of opportunity and responsibility to the world around us.\n",
      " \n",
      "Our mission to empower every person and every organization on the\n",
      "planet to achieve more has never been more \n",
      "urgent or more necessary.\n",
      "For all the uncertainty in the world, one thing is clear: People and\n",
      "organizations in every \n",
      "industry are increasingly looking to digital\n",
      "technology to overcome today’s challenges and emerge stronger. And no\n"
     ]
    }
   ],
   "source": [
    "print(word_wrap(character_split_texts[0]))"
   ]
  },
  {
   "cell_type": "code",
   "execution_count": 17,
   "metadata": {},
   "outputs": [
    {
     "name": "stdout",
     "output_type": "stream",
     "text": [
      "\n",
      "Total chunks: 347\n"
     ]
    }
   ],
   "source": [
    "print(f\"\\nTotal chunks: {len(character_split_texts)}\")"
   ]
  },
  {
   "cell_type": "code",
   "execution_count": 19,
   "metadata": {},
   "outputs": [
    {
     "name": "stdout",
     "output_type": "stream",
     "text": [
      "1 dear shareholders, colleagues, customers, and partners : we are\n",
      "living through a period of historic economic, societal, and\n",
      "geopolitical change. the world in 2022 looks nothing like the world in\n",
      "2019. as i write this, inflation is at a 40 - year high, supply chains\n",
      "are stretched, and the war in ukraine is ongoing. at the same time, we\n",
      "are entering a technological era with the potential to power awesome\n",
      "advancements across every sector of our economy and society. as the\n",
      "world ’ s largest software company, this places us at a historic\n",
      "intersection of opportunity and responsibility to the world around us.\n",
      "our mission to empower every person and every organization on the\n",
      "planet to achieve more has never been more urgent or more necessary.\n",
      "for all the uncertainty in the world, one thing is clear : people and\n",
      "organizations in every industry are increasingly looking to digital\n",
      "technology to overcome today ’ s challenges and emerge stronger. and no\n",
      "\n",
      "Total chunks: 349\n"
     ]
    }
   ],
   "source": [
    "token_splitter = SentenceTransformersTokenTextSplitter(chunk_overlap=0, tokens_per_chunk=256)\n",
    "\n",
    "token_split_texts = []\n",
    "for text in character_split_texts:\n",
    "    token_split_texts += token_splitter.split_text(text)\n",
    "\n",
    "print(word_wrap(token_split_texts[0]))\n",
    "print(f\"\\nTotal chunks: {len(token_split_texts)}\")"
   ]
  },
  {
   "cell_type": "code",
   "execution_count": null,
   "metadata": {},
   "outputs": [],
   "source": []
  }
 ],
 "metadata": {
  "kernelspec": {
   "display_name": ".venv",
   "language": "python",
   "name": "python3"
  },
  "language_info": {
   "codemirror_mode": {
    "name": "ipython",
    "version": 3
   },
   "file_extension": ".py",
   "mimetype": "text/x-python",
   "name": "python",
   "nbconvert_exporter": "python",
   "pygments_lexer": "ipython3",
   "version": "3.10.6"
  }
 },
 "nbformat": 4,
 "nbformat_minor": 2
}
